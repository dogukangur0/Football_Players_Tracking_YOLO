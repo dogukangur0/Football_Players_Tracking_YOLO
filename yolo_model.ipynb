{
 "cells": [
  {
   "cell_type": "code",
   "execution_count": 57,
   "id": "5f70e11e",
   "metadata": {},
   "outputs": [],
   "source": [
    "import cv2\n",
    "import os\n",
    "import numpy as np\n",
    "import pandas as pd\n",
    "import matplotlib.pyplot as plt\n",
    "from ultralytics import YOLO"
   ]
  },
  {
   "cell_type": "code",
   "execution_count": null,
   "id": "f8e6eb35",
   "metadata": {},
   "outputs": [],
   "source": [
    "rectangles = []"
   ]
  },
  {
   "cell_type": "code",
   "execution_count": 58,
   "id": "ad2ec872",
   "metadata": {},
   "outputs": [],
   "source": [
    "def find_txt_information_referee(class_id, x_min, y_min, x_max, y_max, width, height):\n",
    "    x_center = ((x_min + x_max) / 2.0) / width\n",
    "    y_center = ((y_min + y_max) / 2.0) / height\n",
    "\n",
    "    resized_width = (x_max - x_min) / width\n",
    "    resized_height = (y_max - y_min) / height\n",
    "\n",
    "    rectangles.append([class_id, x_center, y_center, resized_width, resized_height])"
   ]
  },
  {
   "cell_type": "code",
   "execution_count": 59,
   "id": "79324ae0",
   "metadata": {},
   "outputs": [],
   "source": [
    "def save_yolo_txt(image_name, path_name, rectangles):\n",
    "    if not os.path.exists(path_name):\n",
    "        os.makedirs(path_name, exist_ok=True)\n",
    "    txt_path = image_name.replace(\"images\", \"labels\").replace(\"jpg\", \"txt\")\n",
    "    \n",
    "    with open(txt_path, \"w\") as f:\n",
    "        for rectangle in rectangles:\n",
    "            class_id, x_center, y_center, width, height = rectangle\n",
    "            f.write(f\"{class_id} {x_center} {y_center} {width} {height}\\n\")"
   ]
  },
  {
   "cell_type": "code",
   "execution_count": null,
   "id": "1dfad6c7",
   "metadata": {},
   "outputs": [],
   "source": [
    "drawing = False\n",
    "ix = -1\n",
    "iy = -1\n",
    "class_id = 0\n",
    "number = False\n",
    "def draw_rectangle_and_create_txt_file(event, x, y, flags, param):\n",
    "    global drawing, img, ix, iy, class_id, number\n",
    "    if event == cv2.EVENT_RBUTTONDOWN:\n",
    "        number = True\n",
    "    elif event == cv2.EVENT_RBUTTONUP:\n",
    "        number = False\n",
    "        class_id += 1\n",
    "        \n",
    "    if event == cv2.EVENT_LBUTTONDOWN:\n",
    "        drawing = True\n",
    "        ix, iy = x, y\n",
    "    elif event == cv2.EVENT_LBUTTONUP:\n",
    "        drawing = False\n",
    "        cv2.rectangle(img, (ix, iy), (x,y), color = (0, 255, 0), thickness= 1)\n",
    "        find_txt_information_referee(class_id, ix, iy, x, y, 800, 600)\n",
    "        save_yolo_txt(\"tools/images/val/frame_4.jpg\", \"tools/labels/val\", rectangles)"
   ]
  },
  {
   "cell_type": "code",
   "execution_count": 115,
   "id": "ccf3d7fc",
   "metadata": {},
   "outputs": [],
   "source": [
    "img = cv2.imread('tools/images/val/frame_4.jpg', cv2.IMREAD_COLOR_BGR)\n",
    "cv2.namedWindow(\"new_images\")\n",
    "cv2.setMouseCallback(\"new_images\",draw_rectangle_and_create_txt_file)\n",
    "\n",
    "while True:\n",
    "    cv2.imshow(\"new_images\", img)\n",
    "    if cv2.waitKey(20) & 0xFF == ord('q'):\n",
    "        break\n",
    "cv2.destroyAllWindows()"
   ]
  },
  {
   "cell_type": "markdown",
   "id": "8d9aee8b",
   "metadata": {},
   "source": [
    "---"
   ]
  },
  {
   "cell_type": "code",
   "execution_count": 138,
   "id": "70f80d10",
   "metadata": {},
   "outputs": [],
   "source": [
    "model = YOLO(\"yolov8n.pt\")"
   ]
  },
  {
   "cell_type": "code",
   "execution_count": 139,
   "id": "a4ce8a2e",
   "metadata": {},
   "outputs": [
    {
     "data": {
      "text/plain": [
       "'cuda'"
      ]
     },
     "execution_count": 139,
     "metadata": {},
     "output_type": "execute_result"
    }
   ],
   "source": [
    "import torch \n",
    "device = \"cuda\" if torch.cuda.is_available() else \"cpu\"\n",
    "device"
   ]
  },
  {
   "cell_type": "code",
   "execution_count": null,
   "id": "2cd487be",
   "metadata": {},
   "outputs": [],
   "source": [
    "model.train(data= \"data.yaml\", epochs = 200, batch = 16, imgsz = 640, save = True, device = device)\n",
    "video_path = \"video.mp4\"\n",
    "\n",
    "capture = cv2.VideoCapture(video_path)\n",
    "\n",
    "fps = int(capture.get(cv2.CAP_PROP_FPS))\n",
    "width = int(capture.get(cv2.CAP_PROP_FRAME_WIDTH))\n",
    "height = int(capture.get(cv2.CAP_PROP_FRAME_HEIGHT))\n",
    "fourcc = cv2.VideoWriter_fourcc(*'mp4v')\n",
    "output_path = \"output_video.mp4\"\n",
    "output = cv2.VideoWriter(output_path, fourcc, fps, (width, height))\n",
    "\n",
    "\n",
    "while capture.isOpened():\n",
    "    ret, frame = capture.read()\n",
    "    if not ret:\n",
    "        break\n",
    "    results = model(frame)\n",
    "    annotated_frame = results[0].plot()\n",
    "    output.write(annotated_frame)\n",
    "    cv2.imshow(\"YOLO Video Object Detection\", annotated_frame)\n",
    "\n",
    "    if cv2.waitKey(20) & 0xFF == ord('q'):\n",
    "        break\n",
    "\n",
    "capture.release()\n",
    "output.release()\n",
    "cv2.destroyAllWindows()"
   ]
  },
  {
   "cell_type": "code",
   "execution_count": null,
   "id": "35c87c8f",
   "metadata": {},
   "outputs": [],
   "source": []
  }
 ],
 "metadata": {
  "kernelspec": {
   "display_name": "Python 3",
   "language": "python",
   "name": "python3"
  },
  "language_info": {
   "codemirror_mode": {
    "name": "ipython",
    "version": 3
   },
   "file_extension": ".py",
   "mimetype": "text/x-python",
   "name": "python",
   "nbconvert_exporter": "python",
   "pygments_lexer": "ipython3",
   "version": "3.10.9"
  }
 },
 "nbformat": 4,
 "nbformat_minor": 5
}
